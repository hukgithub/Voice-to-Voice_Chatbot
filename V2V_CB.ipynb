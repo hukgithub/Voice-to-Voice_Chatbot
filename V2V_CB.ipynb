{
  "nbformat": 4,
  "nbformat_minor": 0,
  "metadata": {
    "colab": {
      "provenance": [],
      "authorship_tag": "ABX9TyPKhASPzG+loLwXsR+67yQe",
      "include_colab_link": true
    },
    "kernelspec": {
      "name": "python3",
      "display_name": "Python 3"
    },
    "language_info": {
      "name": "python"
    }
  },
  "cells": [
    {
      "cell_type": "markdown",
      "metadata": {
        "id": "view-in-github",
        "colab_type": "text"
      },
      "source": [
        "<a href=\"https://colab.research.google.com/github/hukgithub/Voice-to-Voice_Chatbot/blob/main/V2V_CB.ipynb\" target=\"_parent\"><img src=\"https://colab.research.google.com/assets/colab-badge.svg\" alt=\"Open In Colab\"/></a>"
      ]
    },
    {
      "cell_type": "code",
      "execution_count": null,
      "metadata": {
        "id": "CwXwmSfrwQst"
      },
      "outputs": [],
      "source": [
        "# Install necessary libraries\n",
        "!pip install openai-whisper groq gtts gradio"
      ]
    },
    {
      "cell_type": "code",
      "source": [
        "# Import libraries\n",
        "import whisper\n",
        "import os\n",
        "from gtts import gTTS\n",
        "import gradio as gr\n",
        "from groq import Groq"
      ],
      "metadata": {
        "id": "qHwmFPWewcr1"
      },
      "execution_count": 3,
      "outputs": []
    },
    {
      "cell_type": "code",
      "source": [
        "os.environ[\"GROQ_API_KEY\"] = \"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\""
      ],
      "metadata": {
        "id": "Usj4VNm_1kDi"
      },
      "execution_count": 7,
      "outputs": []
    },
    {
      "cell_type": "code",
      "source": [
        "# Load Whisper model for transcription\n",
        "model = whisper.load_model(\"base\")\n",
        "\n",
        "# Set up Groq API client (ensure GROQ_API_KEY is set in your environment)\n",
        "client = Groq(api_key=os.environ.get(\"GROQ_API_KEY\"))"
      ],
      "metadata": {
        "colab": {
          "base_uri": "https://localhost:8080/"
        },
        "id": "rkPfUy65wtBs",
        "outputId": "9d37d4e4-850f-4eda-b754-a724892eeb9b"
      },
      "execution_count": 9,
      "outputs": [
        {
          "output_type": "stream",
          "name": "stderr",
          "text": [
            "/usr/local/lib/python3.10/dist-packages/whisper/__init__.py:150: FutureWarning: You are using `torch.load` with `weights_only=False` (the current default value), which uses the default pickle module implicitly. It is possible to construct malicious pickle data which will execute arbitrary code during unpickling (See https://github.com/pytorch/pytorch/blob/main/SECURITY.md#untrusted-models for more details). In a future release, the default value for `weights_only` will be flipped to `True`. This limits the functions that could be executed during unpickling. Arbitrary objects will no longer be allowed to be loaded via this mode unless they are explicitly allowlisted by the user via `torch.serialization.add_safe_globals`. We recommend you start setting `weights_only=True` for any use case where you don't have full control of the loaded file. Please open an issue on GitHub for any issues related to this experimental feature.\n",
            "  checkpoint = torch.load(fp, map_location=device)\n"
          ]
        }
      ]
    },
    {
      "cell_type": "code",
      "source": [
        "# Function to get the LLM response from Groq\n",
        "def get_llm_response(user_input):\n",
        "  chat_completion = client.chat.completions.create( messages=[{\"role\": \"user\", \"content\": user_input}], model=\"llama3-8b-8192\", temperature=0.7)\n",
        "  # Replace with your desired model )\n",
        "  return chat_completion.choices[0].message.content"
      ],
      "metadata": {
        "id": "magZatjaw_QU"
      },
      "execution_count": 10,
      "outputs": []
    },
    {
      "cell_type": "code",
      "source": [
        "# Function to convert text to speech using gTTS\n",
        "def text_to_speech(text, output_audio=\"output_audio.mp3\"):\n",
        "  tts = gTTS(text)\n",
        "  tts.save(output_audio)\n",
        "  return output_audio"
      ],
      "metadata": {
        "id": "jOTTK9wDxyWE"
      },
      "execution_count": 12,
      "outputs": []
    },
    {
      "cell_type": "code",
      "source": [
        "# Main chatbot function to handle audio input and output\n",
        "def chatbot(audio):\n",
        "  # Step 1: Transcribe the audio using Whisper\n",
        "  result = model.transcribe(audio)\n",
        "  user_text = result[\"text\"]\n",
        "\n",
        "  # Step 2: Get LLM response from Groq\n",
        "  response_text = get_llm_response(user_text)\n",
        "\n",
        "  # Step 3: Convert the response text to speech\n",
        "  output_audio = text_to_speech(response_text)\n",
        "  return response_text, output_audio"
      ],
      "metadata": {
        "id": "Aw8CZBW2yr_k"
      },
      "execution_count": 13,
      "outputs": []
    },
    {
      "cell_type": "code",
      "source": [
        "# Gradio interface for real-time interaction\n",
        "iface = gr.Interface( fn=chatbot, inputs=gr.Audio(type=\"filepath\"),\n",
        "                     # Input from mic\n",
        "                      outputs=[gr.Textbox(), gr.Audio(type=\"filepath\")],\n",
        "                      # Output: response text and audio\n",
        "                      live=True )\n",
        "\n",
        "# Launch the Gradio app\n",
        "iface.launch()"
      ],
      "metadata": {
        "id": "fjWl_gUkzDJk"
      },
      "execution_count": null,
      "outputs": []
    }
  ]
}